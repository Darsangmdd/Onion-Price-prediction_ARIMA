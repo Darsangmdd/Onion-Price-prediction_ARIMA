{
  "nbformat": 4,
  "nbformat_minor": 0,
  "metadata": {
    "colab": {
      "name": "TSA_Onion Price Prediction.ipynb",
      "provenance": [],
      "collapsed_sections": [],
      "authorship_tag": "ABX9TyM722IBrIDs//SzyQDwukS0",
      "include_colab_link": true
    },
    "kernelspec": {
      "display_name": "Python 3",
      "name": "python3"
    },
    "language_info": {
      "name": "python"
    }
  },
  "cells": [
    {
      "cell_type": "markdown",
      "metadata": {
        "id": "view-in-github",
        "colab_type": "text"
      },
      "source": [
        "<a href=\"https://colab.research.google.com/github/Darsangmdd/Onion-Price-prediction_ARIMA/blob/main/TSA_Onion_Price_Prediction.ipynb\" target=\"_parent\"><img src=\"https://colab.research.google.com/assets/colab-badge.svg\" alt=\"Open In Colab\"/></a>"
      ]
    },
    {
      "cell_type": "markdown",
      "metadata": {
        "id": "xYQd1bEHtfuO"
      },
      "source": [
        ""
      ]
    },
    {
      "cell_type": "markdown",
      "metadata": {
        "id": "7YYQoNrHtNc_"
      },
      "source": [
        "***ONION PRICE PREDICTION WITH TIMES SERIES ANALYSIS AND FORECASTING USING AUTO REGRESSIVE INTEGRATED MOVING AVERAGE MODEL (ARIMA)***"
      ]
    },
    {
      "cell_type": "code",
      "metadata": {
        "colab": {
          "base_uri": "https://localhost:8080/"
        },
        "id": "bnSIDGa_xJgx",
        "outputId": "d86120e8-f038-4ce3-a269-29c95477a438"
      },
      "source": [
        "import pandas as pd \n",
        "import numpy as np\n",
        "import matplotlib.pyplot as plt\n",
        "%matplotlib\n",
        "import seaborn as sns "
      ],
      "execution_count": 1,
      "outputs": [
        {
          "output_type": "stream",
          "text": [
            "Using matplotlib backend: agg\n"
          ],
          "name": "stdout"
        }
      ]
    },
    {
      "cell_type": "code",
      "metadata": {
        "id": "-ZEBjQ2ByKCE"
      },
      "source": [
        "data = pd.read_excel('MonthWiseMarketArrivals_Chennai.xlsx')"
      ],
      "execution_count": 2,
      "outputs": []
    },
    {
      "cell_type": "code",
      "metadata": {
        "colab": {
          "base_uri": "https://localhost:8080/",
          "height": 203
        },
        "id": "EYYNZTVvyRFY",
        "outputId": "a1da5ed9-8648-4239-eb65-2d35016c131e"
      },
      "source": [
        "data.head()"
      ],
      "execution_count": 3,
      "outputs": [
        {
          "output_type": "execute_result",
          "data": {
            "text/html": [
              "<div>\n",
              "<style scoped>\n",
              "    .dataframe tbody tr th:only-of-type {\n",
              "        vertical-align: middle;\n",
              "    }\n",
              "\n",
              "    .dataframe tbody tr th {\n",
              "        vertical-align: top;\n",
              "    }\n",
              "\n",
              "    .dataframe thead th {\n",
              "        text-align: right;\n",
              "    }\n",
              "</style>\n",
              "<table border=\"1\" class=\"dataframe\">\n",
              "  <thead>\n",
              "    <tr style=\"text-align: right;\">\n",
              "      <th></th>\n",
              "      <th>market</th>\n",
              "      <th>month</th>\n",
              "      <th>year</th>\n",
              "      <th>quantity</th>\n",
              "      <th>priceMin</th>\n",
              "      <th>priceMax</th>\n",
              "      <th>priceMod</th>\n",
              "    </tr>\n",
              "  </thead>\n",
              "  <tbody>\n",
              "    <tr>\n",
              "      <th>0</th>\n",
              "      <td>CHENNAI</td>\n",
              "      <td>January</td>\n",
              "      <td>2004</td>\n",
              "      <td>103400</td>\n",
              "      <td>798</td>\n",
              "      <td>1019</td>\n",
              "      <td>910</td>\n",
              "    </tr>\n",
              "    <tr>\n",
              "      <th>1</th>\n",
              "      <td>CHENNAI</td>\n",
              "      <td>February</td>\n",
              "      <td>2004</td>\n",
              "      <td>87800</td>\n",
              "      <td>776</td>\n",
              "      <td>969</td>\n",
              "      <td>873</td>\n",
              "    </tr>\n",
              "    <tr>\n",
              "      <th>2</th>\n",
              "      <td>CHENNAI</td>\n",
              "      <td>March</td>\n",
              "      <td>2004</td>\n",
              "      <td>102180</td>\n",
              "      <td>506</td>\n",
              "      <td>656</td>\n",
              "      <td>580</td>\n",
              "    </tr>\n",
              "    <tr>\n",
              "      <th>3</th>\n",
              "      <td>CHENNAI</td>\n",
              "      <td>April</td>\n",
              "      <td>2004</td>\n",
              "      <td>83300</td>\n",
              "      <td>448</td>\n",
              "      <td>599</td>\n",
              "      <td>527</td>\n",
              "    </tr>\n",
              "    <tr>\n",
              "      <th>4</th>\n",
              "      <td>CHENNAI</td>\n",
              "      <td>May</td>\n",
              "      <td>2004</td>\n",
              "      <td>84850</td>\n",
              "      <td>462</td>\n",
              "      <td>596</td>\n",
              "      <td>529</td>\n",
              "    </tr>\n",
              "  </tbody>\n",
              "</table>\n",
              "</div>"
            ],
            "text/plain": [
              "    market     month  year  quantity  priceMin  priceMax  priceMod\n",
              "0  CHENNAI   January  2004    103400       798      1019       910\n",
              "1  CHENNAI  February  2004     87800       776       969       873\n",
              "2  CHENNAI     March  2004    102180       506       656       580\n",
              "3  CHENNAI     April  2004     83300       448       599       527\n",
              "4  CHENNAI       May  2004     84850       462       596       529"
            ]
          },
          "metadata": {
            "tags": []
          },
          "execution_count": 3
        }
      ]
    },
    {
      "cell_type": "code",
      "metadata": {
        "colab": {
          "base_uri": "https://localhost:8080/"
        },
        "id": "NMCldgGByTTc",
        "outputId": "4f91dbcd-0857-4375-e55c-f0720c71b06d"
      },
      "source": [
        "data.columns"
      ],
      "execution_count": 4,
      "outputs": [
        {
          "output_type": "execute_result",
          "data": {
            "text/plain": [
              "Index(['market', 'month', 'year', 'quantity', 'priceMin', 'priceMax',\n",
              "       'priceMod'],\n",
              "      dtype='object')"
            ]
          },
          "metadata": {
            "tags": []
          },
          "execution_count": 4
        }
      ]
    },
    {
      "cell_type": "code",
      "metadata": {
        "id": "tsVc81Hfyef6"
      },
      "source": [
        "data.drop(columns=['market','quantity', 'priceMin', 'priceMax'], inplace =True)"
      ],
      "execution_count": 5,
      "outputs": []
    },
    {
      "cell_type": "code",
      "metadata": {
        "colab": {
          "base_uri": "https://localhost:8080/",
          "height": 203
        },
        "id": "6YgTC520yp_8",
        "outputId": "bf9d9e8a-c97a-413d-cc07-0feffb359c53"
      },
      "source": [
        "data.head()"
      ],
      "execution_count": 6,
      "outputs": [
        {
          "output_type": "execute_result",
          "data": {
            "text/html": [
              "<div>\n",
              "<style scoped>\n",
              "    .dataframe tbody tr th:only-of-type {\n",
              "        vertical-align: middle;\n",
              "    }\n",
              "\n",
              "    .dataframe tbody tr th {\n",
              "        vertical-align: top;\n",
              "    }\n",
              "\n",
              "    .dataframe thead th {\n",
              "        text-align: right;\n",
              "    }\n",
              "</style>\n",
              "<table border=\"1\" class=\"dataframe\">\n",
              "  <thead>\n",
              "    <tr style=\"text-align: right;\">\n",
              "      <th></th>\n",
              "      <th>month</th>\n",
              "      <th>year</th>\n",
              "      <th>priceMod</th>\n",
              "    </tr>\n",
              "  </thead>\n",
              "  <tbody>\n",
              "    <tr>\n",
              "      <th>0</th>\n",
              "      <td>January</td>\n",
              "      <td>2004</td>\n",
              "      <td>910</td>\n",
              "    </tr>\n",
              "    <tr>\n",
              "      <th>1</th>\n",
              "      <td>February</td>\n",
              "      <td>2004</td>\n",
              "      <td>873</td>\n",
              "    </tr>\n",
              "    <tr>\n",
              "      <th>2</th>\n",
              "      <td>March</td>\n",
              "      <td>2004</td>\n",
              "      <td>580</td>\n",
              "    </tr>\n",
              "    <tr>\n",
              "      <th>3</th>\n",
              "      <td>April</td>\n",
              "      <td>2004</td>\n",
              "      <td>527</td>\n",
              "    </tr>\n",
              "    <tr>\n",
              "      <th>4</th>\n",
              "      <td>May</td>\n",
              "      <td>2004</td>\n",
              "      <td>529</td>\n",
              "    </tr>\n",
              "  </tbody>\n",
              "</table>\n",
              "</div>"
            ],
            "text/plain": [
              "      month  year  priceMod\n",
              "0   January  2004       910\n",
              "1  February  2004       873\n",
              "2     March  2004       580\n",
              "3     April  2004       527\n",
              "4       May  2004       529"
            ]
          },
          "metadata": {
            "tags": []
          },
          "execution_count": 6
        }
      ]
    },
    {
      "cell_type": "code",
      "metadata": {
        "colab": {
          "base_uri": "https://localhost:8080/"
        },
        "id": "h5iIlcCpzLkC",
        "outputId": "d1876c45-51e7-4d34-8726-5f576cd424eb"
      },
      "source": [
        "data.dtypes"
      ],
      "execution_count": 7,
      "outputs": [
        {
          "output_type": "execute_result",
          "data": {
            "text/plain": [
              "month       object\n",
              "year         int64\n",
              "priceMod     int64\n",
              "dtype: object"
            ]
          },
          "metadata": {
            "tags": []
          },
          "execution_count": 7
        }
      ]
    },
    {
      "cell_type": "markdown",
      "metadata": {
        "id": "7egntfK453ED"
      },
      "source": [
        "***MAKE A SEPARATE COLUMN FOR DATE AND MONTH COMBINED***"
      ]
    },
    {
      "cell_type": "code",
      "metadata": {
        "id": "gCuimS_Nyuf9"
      },
      "source": [
        "data['date'] =  data['month'] + '-' + data['year'].map(str)"
      ],
      "execution_count": 8,
      "outputs": []
    },
    {
      "cell_type": "code",
      "metadata": {
        "colab": {
          "base_uri": "https://localhost:8080/"
        },
        "id": "rYNblyQwzk8y",
        "outputId": "e1a80c34-fde4-45fc-eba8-8225a1be2bbd"
      },
      "source": [
        "data.dtypes"
      ],
      "execution_count": 9,
      "outputs": [
        {
          "output_type": "execute_result",
          "data": {
            "text/plain": [
              "month       object\n",
              "year         int64\n",
              "priceMod     int64\n",
              "date        object\n",
              "dtype: object"
            ]
          },
          "metadata": {
            "tags": []
          },
          "execution_count": 9
        }
      ]
    },
    {
      "cell_type": "code",
      "metadata": {
        "id": "KINdT3Vqzl6y"
      },
      "source": [
        "data['date'] = pd.to_datetime(data['date'])"
      ],
      "execution_count": 10,
      "outputs": []
    },
    {
      "cell_type": "code",
      "metadata": {
        "colab": {
          "base_uri": "https://localhost:8080/"
        },
        "id": "tAKFtEjw0SCQ",
        "outputId": "62038c90-99d6-479e-8d41-bdc0acb24c42"
      },
      "source": [
        "data.dtypes"
      ],
      "execution_count": 11,
      "outputs": [
        {
          "output_type": "execute_result",
          "data": {
            "text/plain": [
              "month               object\n",
              "year                 int64\n",
              "priceMod             int64\n",
              "date        datetime64[ns]\n",
              "dtype: object"
            ]
          },
          "metadata": {
            "tags": []
          },
          "execution_count": 11
        }
      ]
    },
    {
      "cell_type": "code",
      "metadata": {
        "id": "rA0PpJDM0Toa"
      },
      "source": [
        "data = data[['priceMod','date']]"
      ],
      "execution_count": 12,
      "outputs": []
    },
    {
      "cell_type": "code",
      "metadata": {
        "colab": {
          "base_uri": "https://localhost:8080/",
          "height": 203
        },
        "id": "369jxFLe0yKO",
        "outputId": "db8690b2-cb62-45d1-f018-85e0ebd69b5f"
      },
      "source": [
        "data.head()"
      ],
      "execution_count": 13,
      "outputs": [
        {
          "output_type": "execute_result",
          "data": {
            "text/html": [
              "<div>\n",
              "<style scoped>\n",
              "    .dataframe tbody tr th:only-of-type {\n",
              "        vertical-align: middle;\n",
              "    }\n",
              "\n",
              "    .dataframe tbody tr th {\n",
              "        vertical-align: top;\n",
              "    }\n",
              "\n",
              "    .dataframe thead th {\n",
              "        text-align: right;\n",
              "    }\n",
              "</style>\n",
              "<table border=\"1\" class=\"dataframe\">\n",
              "  <thead>\n",
              "    <tr style=\"text-align: right;\">\n",
              "      <th></th>\n",
              "      <th>priceMod</th>\n",
              "      <th>date</th>\n",
              "    </tr>\n",
              "  </thead>\n",
              "  <tbody>\n",
              "    <tr>\n",
              "      <th>0</th>\n",
              "      <td>910</td>\n",
              "      <td>2004-01-01</td>\n",
              "    </tr>\n",
              "    <tr>\n",
              "      <th>1</th>\n",
              "      <td>873</td>\n",
              "      <td>2004-02-01</td>\n",
              "    </tr>\n",
              "    <tr>\n",
              "      <th>2</th>\n",
              "      <td>580</td>\n",
              "      <td>2004-03-01</td>\n",
              "    </tr>\n",
              "    <tr>\n",
              "      <th>3</th>\n",
              "      <td>527</td>\n",
              "      <td>2004-04-01</td>\n",
              "    </tr>\n",
              "    <tr>\n",
              "      <th>4</th>\n",
              "      <td>529</td>\n",
              "      <td>2004-05-01</td>\n",
              "    </tr>\n",
              "  </tbody>\n",
              "</table>\n",
              "</div>"
            ],
            "text/plain": [
              "   priceMod       date\n",
              "0       910 2004-01-01\n",
              "1       873 2004-02-01\n",
              "2       580 2004-03-01\n",
              "3       527 2004-04-01\n",
              "4       529 2004-05-01"
            ]
          },
          "metadata": {
            "tags": []
          },
          "execution_count": 13
        }
      ]
    },
    {
      "cell_type": "markdown",
      "metadata": {
        "id": "tX0Myzes5yGb"
      },
      "source": [
        "***CONVERT DATE TO INDEX***"
      ]
    },
    {
      "cell_type": "code",
      "metadata": {
        "colab": {
          "base_uri": "https://localhost:8080/",
          "height": 234
        },
        "id": "D-PM1BiN1O0z",
        "outputId": "8c50cb6e-0379-480e-aaed-2b6fe4f5f327"
      },
      "source": [
        "data = data.set_index('date')\n",
        "data.head()"
      ],
      "execution_count": 14,
      "outputs": [
        {
          "output_type": "execute_result",
          "data": {
            "text/html": [
              "<div>\n",
              "<style scoped>\n",
              "    .dataframe tbody tr th:only-of-type {\n",
              "        vertical-align: middle;\n",
              "    }\n",
              "\n",
              "    .dataframe tbody tr th {\n",
              "        vertical-align: top;\n",
              "    }\n",
              "\n",
              "    .dataframe thead th {\n",
              "        text-align: right;\n",
              "    }\n",
              "</style>\n",
              "<table border=\"1\" class=\"dataframe\">\n",
              "  <thead>\n",
              "    <tr style=\"text-align: right;\">\n",
              "      <th></th>\n",
              "      <th>priceMod</th>\n",
              "    </tr>\n",
              "    <tr>\n",
              "      <th>date</th>\n",
              "      <th></th>\n",
              "    </tr>\n",
              "  </thead>\n",
              "  <tbody>\n",
              "    <tr>\n",
              "      <th>2004-01-01</th>\n",
              "      <td>910</td>\n",
              "    </tr>\n",
              "    <tr>\n",
              "      <th>2004-02-01</th>\n",
              "      <td>873</td>\n",
              "    </tr>\n",
              "    <tr>\n",
              "      <th>2004-03-01</th>\n",
              "      <td>580</td>\n",
              "    </tr>\n",
              "    <tr>\n",
              "      <th>2004-04-01</th>\n",
              "      <td>527</td>\n",
              "    </tr>\n",
              "    <tr>\n",
              "      <th>2004-05-01</th>\n",
              "      <td>529</td>\n",
              "    </tr>\n",
              "  </tbody>\n",
              "</table>\n",
              "</div>"
            ],
            "text/plain": [
              "            priceMod\n",
              "date                \n",
              "2004-01-01       910\n",
              "2004-02-01       873\n",
              "2004-03-01       580\n",
              "2004-04-01       527\n",
              "2004-05-01       529"
            ]
          },
          "metadata": {
            "tags": []
          },
          "execution_count": 14
        }
      ]
    },
    {
      "cell_type": "markdown",
      "metadata": {
        "id": "p92DMM1F5ic-"
      },
      "source": [
        "***CONVERT DATAFRAMES TO SERIES***"
      ]
    },
    {
      "cell_type": "code",
      "metadata": {
        "colab": {
          "base_uri": "https://localhost:8080/"
        },
        "id": "jCYuzDGq1WfC",
        "outputId": "12b0b354-bbdf-4b22-be8d-910b6a02c7c4"
      },
      "source": [
        "data = data.squeeze()\n",
        "type(data)"
      ],
      "execution_count": 15,
      "outputs": [
        {
          "output_type": "execute_result",
          "data": {
            "text/plain": [
              "pandas.core.series.Series"
            ]
          },
          "metadata": {
            "tags": []
          },
          "execution_count": 15
        }
      ]
    },
    {
      "cell_type": "markdown",
      "metadata": {
        "id": "WEfVwCxH3tN7"
      },
      "source": [
        "***SPLITTING DATA INTO TRAINING AND VALIDATION DATA***"
      ]
    },
    {
      "cell_type": "code",
      "metadata": {
        "colab": {
          "base_uri": "https://localhost:8080/"
        },
        "id": "ZwTSfd7u1-FS",
        "outputId": "2956263d-3584-450a-9b73-5ca2ad0382cb"
      },
      "source": [
        "split_point = len(data) - 5\n",
        "dataset, validation = data[0:split_point], data[split_point:]\n",
        "print('Dataset %d, Validation %d' % (len(dataset), len(validation)))\n",
        "dataset.to_csv('dataset.csv', header=False)\n",
        "validation.to_csv('validation.csv', header=False)"
      ],
      "execution_count": 16,
      "outputs": [
        {
          "output_type": "stream",
          "text": [
            "Dataset 204, Validation 5\n"
          ],
          "name": "stdout"
        }
      ]
    },
    {
      "cell_type": "markdown",
      "metadata": {
        "id": "bdt_RFsH3_51"
      },
      "source": [
        "***BUILDING A PERSISTENCE MODEL***"
      ]
    },
    {
      "cell_type": "code",
      "metadata": {
        "id": "riyolvU_4958"
      },
      "source": [
        "from sklearn.metrics import mean_squared_error\n",
        "from math import sqrt"
      ],
      "execution_count": 17,
      "outputs": []
    },
    {
      "cell_type": "code",
      "metadata": {
        "colab": {
          "base_uri": "https://localhost:8080/"
        },
        "id": "KM2mxZzs3QXZ",
        "outputId": "70d2542f-8366-4da4-b343-d2e2bf25c1b3"
      },
      "source": [
        "# evaluate a persistence model\n",
        "series = pd.read_csv('dataset.csv', header=None, index_col=0, parse_dates=True, squeeze=True)\n",
        "# prepare data\n",
        "X = series.values\n",
        "X = X.astype('float32')\n",
        "train_size = int(len(X) * 0.50)\n",
        "train, test = X[0:train_size], X[train_size:]\n",
        "# walk-forward validation\n",
        "history = [x for x in train]\n",
        "predictions = list()\n",
        "for i in range(len(test)):\n",
        "  # predict\n",
        "  yhat = history[-1]\n",
        "  predictions.append(yhat)\n",
        "  # observation\n",
        "  obs = test[i]\n",
        "  history.append(obs)\n",
        "  print('>Predicted=%.3f, Expected=%.3f' % (yhat, obs))\n",
        "# report performance\n",
        "rmse = sqrt(mean_squared_error(test, predictions))\n",
        "print('RMSE: %.3f' % rmse)"
      ],
      "execution_count": 18,
      "outputs": [
        {
          "output_type": "stream",
          "text": [
            ">Predicted=887.000, Expected=1038.000\n",
            ">Predicted=1038.000, Expected=1143.000\n",
            ">Predicted=1143.000, Expected=1123.000\n",
            ">Predicted=1123.000, Expected=1269.000\n",
            ">Predicted=1269.000, Expected=1921.000\n",
            ">Predicted=1921.000, Expected=1910.000\n",
            ">Predicted=1910.000, Expected=1964.000\n",
            ">Predicted=1964.000, Expected=2033.000\n",
            ">Predicted=2033.000, Expected=1518.000\n",
            ">Predicted=1518.000, Expected=1410.000\n",
            ">Predicted=1410.000, Expected=1431.000\n",
            ">Predicted=1431.000, Expected=1850.000\n",
            ">Predicted=1850.000, Expected=2756.000\n",
            ">Predicted=2756.000, Expected=4530.000\n",
            ">Predicted=4530.000, Expected=5217.000\n",
            ">Predicted=5217.000, Expected=4676.000\n",
            ">Predicted=4676.000, Expected=4705.000\n",
            ">Predicted=4705.000, Expected=2609.000\n",
            ">Predicted=2609.000, Expected=1477.000\n",
            ">Predicted=1477.000, Expected=1300.000\n",
            ">Predicted=1300.000, Expected=1288.000\n",
            ">Predicted=1288.000, Expected=1320.000\n",
            ">Predicted=1320.000, Expected=1640.000\n",
            ">Predicted=1640.000, Expected=2288.000\n",
            ">Predicted=2288.000, Expected=2981.000\n",
            ">Predicted=2981.000, Expected=2691.000\n",
            ">Predicted=2691.000, Expected=2404.000\n",
            ">Predicted=2404.000, Expected=2338.000\n",
            ">Predicted=2338.000, Expected=2420.000\n",
            ">Predicted=2420.000, Expected=2404.000\n",
            ">Predicted=2404.000, Expected=2142.000\n",
            ">Predicted=2142.000, Expected=2242.000\n",
            ">Predicted=2242.000, Expected=2113.000\n",
            ">Predicted=2113.000, Expected=1882.000\n",
            ">Predicted=1882.000, Expected=2017.000\n",
            ">Predicted=2017.000, Expected=2519.000\n",
            ">Predicted=2519.000, Expected=2671.000\n",
            ">Predicted=2671.000, Expected=4920.000\n",
            ">Predicted=4920.000, Expected=5318.000\n",
            ">Predicted=5318.000, Expected=3800.000\n",
            ">Predicted=3800.000, Expected=3432.000\n",
            ">Predicted=3432.000, Expected=2367.000\n",
            ">Predicted=2367.000, Expected=2086.000\n",
            ">Predicted=2086.000, Expected=1763.000\n",
            ">Predicted=1763.000, Expected=1333.000\n",
            ">Predicted=1333.000, Expected=1343.000\n",
            ">Predicted=1343.000, Expected=1387.000\n",
            ">Predicted=1387.000, Expected=1578.000\n",
            ">Predicted=1578.000, Expected=1583.000\n",
            ">Predicted=1583.000, Expected=1525.000\n",
            ">Predicted=1525.000, Expected=1328.000\n",
            ">Predicted=1328.000, Expected=1245.000\n",
            ">Predicted=1245.000, Expected=1371.000\n",
            ">Predicted=1371.000, Expected=1468.000\n",
            ">Predicted=1468.000, Expected=1278.000\n",
            ">Predicted=1278.000, Expected=1050.000\n",
            ">Predicted=1050.000, Expected=1096.000\n",
            ">Predicted=1096.000, Expected=1195.000\n",
            ">Predicted=1195.000, Expected=1018.000\n",
            ">Predicted=1018.000, Expected=1190.000\n",
            ">Predicted=1190.000, Expected=1152.000\n",
            ">Predicted=1152.000, Expected=2336.000\n",
            ">Predicted=2336.000, Expected=1755.000\n",
            ">Predicted=1755.000, Expected=2886.000\n",
            ">Predicted=2886.000, Expected=4110.000\n",
            ">Predicted=4110.000, Expected=4214.000\n",
            ">Predicted=4214.000, Expected=4095.000\n",
            ">Predicted=4095.000, Expected=2371.000\n",
            ">Predicted=2371.000, Expected=1481.000\n",
            ">Predicted=1481.000, Expected=1173.000\n",
            ">Predicted=1173.000, Expected=1179.000\n",
            ">Predicted=1179.000, Expected=1410.000\n",
            ">Predicted=1410.000, Expected=1929.000\n",
            ">Predicted=1929.000, Expected=1781.000\n",
            ">Predicted=1781.000, Expected=1533.000\n",
            ">Predicted=1533.000, Expected=1791.000\n",
            ">Predicted=1791.000, Expected=1817.000\n",
            ">Predicted=1817.000, Expected=1533.000\n",
            ">Predicted=1533.000, Expected=1263.000\n",
            ">Predicted=1263.000, Expected=959.000\n",
            ">Predicted=959.000, Expected=979.000\n",
            ">Predicted=979.000, Expected=1211.000\n",
            ">Predicted=1211.000, Expected=1263.000\n",
            ">Predicted=1263.000, Expected=1762.000\n",
            ">Predicted=1762.000, Expected=1941.000\n",
            ">Predicted=1941.000, Expected=2252.000\n",
            ">Predicted=2252.000, Expected=3675.000\n",
            ">Predicted=3675.000, Expected=3567.000\n",
            ">Predicted=3567.000, Expected=6415.000\n",
            ">Predicted=6415.000, Expected=9876.000\n",
            ">Predicted=9876.000, Expected=4936.000\n",
            ">Predicted=4936.000, Expected=2950.000\n",
            ">Predicted=2950.000, Expected=2100.000\n",
            ">Predicted=2100.000, Expected=1100.000\n",
            ">Predicted=1100.000, Expected=794.000\n",
            ">Predicted=794.000, Expected=961.000\n",
            ">Predicted=961.000, Expected=916.000\n",
            ">Predicted=916.000, Expected=1155.000\n",
            ">Predicted=1155.000, Expected=1950.000\n",
            ">Predicted=1950.000, Expected=3420.000\n",
            ">Predicted=3420.000, Expected=3200.000\n",
            ">Predicted=3200.000, Expected=3060.000\n",
            "RMSE: 924.774\n"
          ],
          "name": "stdout"
        }
      ]
    },
    {
      "cell_type": "code",
      "metadata": {
        "colab": {
          "base_uri": "https://localhost:8080/"
        },
        "id": "Tt3Q4Grk423e",
        "outputId": "51e388dc-a40e-4600-8f1d-97b5195ae2b4"
      },
      "source": [
        "series.describe()"
      ],
      "execution_count": 19,
      "outputs": [
        {
          "output_type": "execute_result",
          "data": {
            "text/plain": [
              "count     204.000000\n",
              "mean     1621.764706\n",
              "std      1236.655108\n",
              "min       384.000000\n",
              "25%       878.750000\n",
              "50%      1263.000000\n",
              "75%      1953.500000\n",
              "max      9876.000000\n",
              "Name: 1, dtype: float64"
            ]
          },
          "metadata": {
            "tags": []
          },
          "execution_count": 19
        }
      ]
    },
    {
      "cell_type": "markdown",
      "metadata": {
        "id": "GKdpJdV1twV7"
      },
      "source": [
        "**PLOTTING THE DATASET**"
      ]
    },
    {
      "cell_type": "code",
      "metadata": {
        "colab": {
          "base_uri": "https://localhost:8080/",
          "height": 623
        },
        "id": "1POm74pv6FgN",
        "outputId": "f824e40d-e642-4051-dd14-8bb5662d2232"
      },
      "source": [
        "plt.figure(figsize=(20,10))\n",
        "series.plot()"
      ],
      "execution_count": 20,
      "outputs": [
        {
          "output_type": "execute_result",
          "data": {
            "text/plain": [
              "<matplotlib.axes._subplots.AxesSubplot at 0x7f8a34e62990>"
            ]
          },
          "metadata": {
            "tags": []
          },
          "execution_count": 20
        },
        {
          "output_type": "display_data",
          "data": {
            "image/png": "[encoded data removed]",
            "text/plain": [
              "<Figure size 1440x720 with 1 Axes>"
            ]
          },
          "metadata": {
            "tags": [],
            "needs_background": "light"
          }
        }
      ]
    },
    {
      "cell_type": "code",
      "metadata": {
        "colab": {
          "base_uri": "https://localhost:8080/",
          "height": 500
        },
        "id": "arHnrQDA5ZR9",
        "outputId": "8bc0c150-7e65-4cc7-c252-1fd89ae0875b"
      },
      "source": [
        "plt.figure(figsize=(20,8))\n",
        "plt.subplot(1, 2, 1)\n",
        "series.hist()\n",
        "plt.subplot(1, 2, 2)\n",
        "series.plot(kind='kde')"
      ],
      "execution_count": 21,
      "outputs": [
        {
          "output_type": "execute_result",
          "data": {
            "text/plain": [
              "<matplotlib.axes._subplots.AxesSubplot at 0x7f8a34af3f10>"
            ]
          },
          "metadata": {
            "tags": []
          },
          "execution_count": 21
        },
        {
          "output_type": "display_data",
          "data": {
            "image/png": "[encoded data removed]",
            "text/plain": [
              "<Figure size 1440x576 with 2 Axes>"
            ]
          },
          "metadata": {
            "tags": [],
            "needs_background": "light"
          }
        }
      ]
    },
    {
      "cell_type": "code",
      "metadata": {
        "id": "uM624dHf7of9"
      },
      "source": [
        "from pandas import Grouper"
      ],
      "execution_count": 22,
      "outputs": []
    },
    {
      "cell_type": "code",
      "metadata": {
        "colab": {
          "base_uri": "https://localhost:8080/",
          "height": 500
        },
        "id": "ziygPaiL6Eca",
        "outputId": "c15de28f-50ce-4cf6-85ef-65721bbcc179"
      },
      "source": [
        "plt.figure(figsize=(20,8))\n",
        "groups = series['2004':'2020'].groupby(Grouper(freq='A'))\n",
        "years = pd.DataFrame()\n",
        "for name, group in groups:\n",
        "  years[name.year] = group.values\n",
        "years.boxplot()"
      ],
      "execution_count": 23,
      "outputs": [
        {
          "output_type": "execute_result",
          "data": {
            "text/plain": [
              "<matplotlib.axes._subplots.AxesSubplot at 0x7f8a34ae9350>"
            ]
          },
          "metadata": {
            "tags": []
          },
          "execution_count": 23
        },
        {
          "output_type": "display_data",
          "data": {
            "image/png": "[encoded data removed]",
            "text/plain": [
              "<Figure size 1440x576 with 1 Axes>"
            ]
          },
          "metadata": {
            "tags": [],
            "needs_background": "light"
          }
        }
      ]
    },
    {
      "cell_type": "markdown",
      "metadata": {
        "id": "8wfmYpTwt5KH"
      },
      "source": [
        "**CREATING A DIFFERENCED TIME SERIES AND EVALUATING USING AUGMENTED DICKEY FULLER TEST**"
      ]
    },
    {
      "cell_type": "code",
      "metadata": {
        "id": "8KS_Vpdv7rGc",
        "colab": {
          "base_uri": "https://localhost:8080/"
        },
        "outputId": "123afe04-6ae2-4c20-a8fa-181c62bdace2"
      },
      "source": [
        "from statsmodels.tsa.stattools import adfuller"
      ],
      "execution_count": 24,
      "outputs": [
        {
          "output_type": "stream",
          "text": [
            "/usr/local/lib/python3.7/dist-packages/statsmodels/tools/_testing.py:19: FutureWarning: pandas.util.testing is deprecated. Use the functions in the public API at pandas.testing instead.\n",
            "  import pandas.util.testing as tm\n"
          ],
          "name": "stderr"
        }
      ]
    },
    {
      "cell_type": "code",
      "metadata": {
        "id": "ARxAMTq977qD"
      },
      "source": [
        "# create a differenced time series\n",
        "def difference(dataset):\n",
        "  diff = list()\n",
        "  for i in range(1, len(dataset)):\n",
        "    value = dataset[i] - dataset[i - 1]\n",
        "    diff.append(value)\n",
        "  return pd.Series(diff)"
      ],
      "execution_count": 25,
      "outputs": []
    },
    {
      "cell_type": "code",
      "metadata": {
        "colab": {
          "base_uri": "https://localhost:8080/"
        },
        "id": "ujl4F4Cr9HfL",
        "outputId": "b1c7ff0e-31af-49ba-e87e-af7eb31bf893"
      },
      "source": [
        "# difference data\n",
        "stationary = difference(X)\n",
        "stationary.index = series.index[1:]\n",
        "# check if stationary\n",
        "result = adfuller(stationary)\n",
        "print('ADF Statistic: %f' % result[0])\n",
        "print('p-value: %f' % result[1])\n",
        "print('Critical Values:')\n",
        "for key, value in result[4].items():\n",
        "  print('\\t%s: %.3f' % (key, value))"
      ],
      "execution_count": 26,
      "outputs": [
        {
          "output_type": "stream",
          "text": [
            "ADF Statistic: -7.901252\n",
            "p-value: 0.000000\n",
            "Critical Values:\n",
            "\t1%: -3.465\n",
            "\t5%: -2.877\n",
            "\t10%: -2.575\n"
          ],
          "name": "stdout"
        }
      ]
    },
    {
      "cell_type": "markdown",
      "metadata": {
        "id": "whIyfB6T9wNt"
      },
      "source": [
        "***Augmented Dickey Fuller test statistic value is -7.90 which is lesser than the critical value at 1% (-3.465). Therefore, we reject the null hypothesis which states that the series is non-stationary. Hence, the series is stationary and thereby has no unit root. Moreover, we also get to know that the difference value (d) is 1. ***"
      ]
    },
    {
      "cell_type": "markdown",
      "metadata": {
        "id": "yx9rOoJKuFHV"
      },
      "source": [
        "**FINDING THE 'p' and 'q' VALUES USING AUTO CORRELATON AND PARTIAL AUTO CORRELATION**"
      ]
    },
    {
      "cell_type": "code",
      "metadata": {
        "id": "0Bg2k0B29KVz"
      },
      "source": [
        "from statsmodels.graphics.tsaplots import plot_acf\n",
        "from statsmodels.graphics.tsaplots import plot_pacf"
      ],
      "execution_count": 27,
      "outputs": []
    },
    {
      "cell_type": "code",
      "metadata": {
        "id": "qMMwdbLd-1Uc",
        "colab": {
          "base_uri": "https://localhost:8080/",
          "height": 499
        },
        "outputId": "ebc69664-c11e-4c2b-b885-4d3a38de0d16"
      },
      "source": [
        "plt.figure(figsize=(20,8))\n",
        "plt.subplot(211)\n",
        "plot_acf(series, lags=50, ax=plt.gca())\n",
        "plt.subplot(212)\n",
        "plot_pacf(series, lags=50, ax=plt.gca())\n",
        "plt.show()"
      ],
      "execution_count": 28,
      "outputs": [
        {
          "output_type": "display_data",
          "data": {
            "image/png": "[encoded data removed]",
            "text/plain": [
              "<Figure size 1440x576 with 2 Axes>"
            ]
          },
          "metadata": {
            "tags": [],
            "needs_background": "light"
          }
        }
      ]
    },
    {
      "cell_type": "markdown",
      "metadata": {
        "id": "0XCLAiOc_rTW"
      },
      "source": [
        "**CREATING AN ARIMA MODEL WITH (p,d,q) = (3,1,1) AS OBSERVED FROM THE CORRELATION PLOTS**"
      ]
    },
    {
      "cell_type": "code",
      "metadata": {
        "colab": {
          "base_uri": "https://localhost:8080/"
        },
        "id": "uwQVEvzt_q1N",
        "outputId": "9aa27240-025f-4d8d-d30e-46ce68a37946"
      },
      "source": [
        "from statsmodels.tsa.arima_model import ARIMA\n",
        "# load data\n",
        "series = pd.read_csv('dataset.csv', header=None, index_col=0, parse_dates=True, squeeze=True)\n",
        "# prepare data\n",
        "X = series.values\n",
        "X = X.astype('float32')\n",
        "train_size = int(len(X) * 0.50)\n",
        "train, test = X[0:train_size], X[train_size:]\n",
        "# walk-forward validation\n",
        "history = [x for x in train]\n",
        "predictions = list()\n",
        "for i in range(len(test)):\n",
        "  # predict\n",
        "  model = ARIMA(history, order=(3,1,1))\n",
        "  model_fit = model.fit(disp=0)\n",
        "  yhat = model_fit.forecast()[0]\n",
        "  predictions.append(yhat)\n",
        "  # observation\n",
        "  obs = test[i]\n",
        "  history.append(obs)\n",
        "  print('>Predicted=%.3f, Expected=%.3f' % (yhat, obs))\n",
        "# report performance\n",
        "rmse = sqrt(mean_squared_error(test, predictions))\n",
        "print('RMSE: %.3f' % rmse)"
      ],
      "execution_count": 29,
      "outputs": [
        {
          "output_type": "stream",
          "text": [
            ">Predicted=1158.246, Expected=1038.000\n",
            ">Predicted=1277.257, Expected=1143.000\n",
            ">Predicted=1323.931, Expected=1123.000\n",
            ">Predicted=1249.149, Expected=1269.000\n",
            ">Predicted=1414.394, Expected=1921.000\n",
            ">Predicted=2088.912, Expected=1910.000\n",
            ">Predicted=1818.837, Expected=1964.000\n",
            ">Predicted=1861.487, Expected=2033.000\n",
            ">Predicted=1926.890, Expected=1518.000\n",
            ">Predicted=1336.610, Expected=1410.000\n",
            ">Predicted=1410.541, Expected=1431.000\n",
            ">Predicted=1503.027, Expected=1850.000\n",
            ">Predicted=1962.217, Expected=2756.000\n",
            ">Predicted=2823.027, Expected=4530.000\n",
            ">Predicted=4693.683, Expected=5217.000\n",
            ">Predicted=4775.367, Expected=4676.000\n",
            ">Predicted=3668.177, Expected=4705.000\n",
            ">Predicted=4253.455, Expected=2609.000\n",
            ">Predicted=1388.102, Expected=1477.000\n",
            ">Predicted=767.650, Expected=1300.000\n",
            ">Predicted=1345.205, Expected=1288.000\n",
            ">Predicted=1521.363, Expected=1320.000\n",
            ">Predicted=1578.716, Expected=1640.000\n",
            ">Predicted=1949.187, Expected=2288.000\n",
            ">Predicted=2604.928, Expected=2981.000\n",
            ">Predicted=3164.812, Expected=2691.000\n",
            ">Predicted=2478.663, Expected=2404.000\n",
            ">Predicted=2178.516, Expected=2338.000\n",
            ">Predicted=2249.619, Expected=2420.000\n",
            ">Predicted=2410.148, Expected=2404.000\n",
            ">Predicted=2371.817, Expected=2142.000\n",
            ">Predicted=2061.317, Expected=2242.000\n",
            ">Predicted=2288.792, Expected=2113.000\n",
            ">Predicted=2127.091, Expected=1882.000\n",
            ">Predicted=1892.881, Expected=2017.000\n",
            ">Predicted=2158.723, Expected=2519.000\n",
            ">Predicted=2732.951, Expected=2671.000\n",
            ">Predicted=2707.895, Expected=4920.000\n",
            ">Predicted=5277.351, Expected=5318.000\n",
            ">Predicted=4977.533, Expected=3800.000\n",
            ">Predicted=2646.760, Expected=3432.000\n",
            ">Predicted=2901.500, Expected=2367.000\n",
            ">Predicted=1918.010, Expected=2086.000\n",
            ">Predicted=2022.622, Expected=1763.000\n",
            ">Predicted=1874.980, Expected=1333.000\n",
            ">Predicted=1519.451, Expected=1343.000\n",
            ">Predicted=1709.992, Expected=1387.000\n",
            ">Predicted=1797.863, Expected=1578.000\n",
            ">Predicted=1992.023, Expected=1583.000\n",
            ">Predicted=1914.383, Expected=1525.000\n",
            ">Predicted=1812.375, Expected=1328.000\n",
            ">Predicted=1589.283, Expected=1245.000\n",
            ">Predicted=1556.018, Expected=1371.000\n",
            ">Predicted=1744.376, Expected=1468.000\n",
            ">Predicted=1811.440, Expected=1278.000\n",
            ">Predicted=1525.182, Expected=1050.000\n",
            ">Predicted=1300.657, Expected=1096.000\n",
            ">Predicted=1445.412, Expected=1195.000\n",
            ">Predicted=1552.616, Expected=1018.000\n",
            ">Predicted=1281.509, Expected=1190.000\n",
            ">Predicted=1543.273, Expected=1152.000\n",
            ">Predicted=1431.193, Expected=2336.000\n",
            ">Predicted=2865.689, Expected=1755.000\n",
            ">Predicted=1779.216, Expected=2886.000\n",
            ">Predicted=3096.801, Expected=4110.000\n",
            ">Predicted=4311.871, Expected=4214.000\n",
            ">Predicted=3954.752, Expected=4095.000\n",
            ">Predicted=3665.822, Expected=2371.000\n",
            ">Predicted=1688.885, Expected=1481.000\n",
            ">Predicted=1180.345, Expected=1173.000\n",
            ">Predicted=1307.342, Expected=1179.000\n",
            ">Predicted=1513.842, Expected=1410.000\n",
            ">Predicted=1812.000, Expected=1929.000\n",
            ">Predicted=2339.549, Expected=1781.000\n",
            ">Predicted=1979.514, Expected=1533.000\n",
            ">Predicted=1667.328, Expected=1791.000\n",
            ">Predicted=2055.938, Expected=1817.000\n",
            ">Predicted=2034.399, Expected=1533.000\n",
            ">Predicted=1663.531, Expected=1263.000\n",
            ">Predicted=1428.450, Expected=959.000\n",
            ">Predicted=1178.535, Expected=979.000\n",
            ">Predicted=1317.028, Expected=1211.000\n",
            ">Predicted=1607.277, Expected=1263.000\n",
            ">Predicted=1583.609, Expected=1762.000\n",
            ">Predicted=2127.391, Expected=1941.000\n",
            ">Predicted=2173.679, Expected=2252.000\n",
            ">Predicted=2430.937, Expected=3675.000\n",
            ">Predicted=3990.024, Expected=3567.000\n",
            ">Predicted=3397.625, Expected=6415.000\n",
            ">Predicted=6464.824, Expected=9876.000\n",
            ">Predicted=11131.987, Expected=4936.000\n",
            ">Predicted=3473.632, Expected=2950.000\n",
            ">Predicted=4377.925, Expected=2100.000\n",
            ">Predicted=1963.984, Expected=1100.000\n",
            ">Predicted=1215.639, Expected=794.000\n",
            ">Predicted=1221.297, Expected=961.000\n",
            ">Predicted=1524.471, Expected=916.000\n",
            ">Predicted=1422.827, Expected=1155.000\n",
            ">Predicted=1669.749, Expected=1950.000\n",
            ">Predicted=2441.359, Expected=3420.000\n",
            ">Predicted=3762.542, Expected=3200.000\n",
            ">Predicted=3044.022, Expected=3060.000\n",
            "RMSE: 969.028\n"
          ],
          "name": "stdout"
        }
      ]
    },
    {
      "cell_type": "markdown",
      "metadata": {
        "id": "nLbUzVfVudSu"
      },
      "source": [
        "**USING GRID SEARCH TO FIND OUT THE OPTIMAL ARIMA HYPERPARAMETERS**"
      ]
    },
    {
      "cell_type": "code",
      "metadata": {
        "id": "fJGMTQtP_F58"
      },
      "source": [
        "# import warnings\n",
        "# # evaluate an ARIMA model for a given order (p,d,q) and return RMSE\n",
        "# def evaluate_arima_model(X, arima_order):\n",
        "#   # prepare training dataset\n",
        "#   X = X.astype('float32') \n",
        "#   train_size = int(len(X) * 0.50)\n",
        "#   train, test = X[0:train_size], X[train_size:]\n",
        "#   history = [x for x in train]\n",
        "#   # make predictions\n",
        "#   predictions = list()\n",
        "#   for t in range(len(test)):\n",
        "#     model = ARIMA(history, order=arima_order)\n",
        "#     model_fit = model.fit(disp=0)\n",
        "#     yhat = model_fit.forecast()[0]\n",
        "#     predictions.append(yhat)\n",
        "#     history.append(test[t])\n",
        "#   # calculate out of sample error\n",
        "#   rmse = sqrt(mean_squared_error(test, predictions))\n",
        "#   return rmse  "
      ],
      "execution_count": 30,
      "outputs": []
    },
    {
      "cell_type": "code",
      "metadata": {
        "id": "QyZ-5DHJBwrA"
      },
      "source": [
        "# # evaluate combinations of p, d and q values for an ARIMA model\n",
        "# def evaluate_models(dataset, p_values, d_values, q_values):\n",
        "#   dataset = dataset.astype('float32')\n",
        "#   best_score, best_cfg = float(\"inf\"), None\n",
        "#   for p in p_values:\n",
        "#     for d in d_values:\n",
        "#       for q in q_values:\n",
        "#         order = (p,d,q)\n",
        "#         try:\n",
        "#           rmse = evaluate_arima_model(dataset, order)\n",
        "#           if rmse < best_score:\n",
        "#             best_score, best_cfg = rmse, order\n",
        "#           print('ARIMA%s RMSE=%.3f' % (order,rmse))\n",
        "#         except:\n",
        "#           continue\n",
        "#   print('Best ARIMA%s RMSE=%.3f' % (best_cfg, best_score))"
      ],
      "execution_count": 31,
      "outputs": []
    },
    {
      "cell_type": "code",
      "metadata": {
        "id": "dvx50S3WCC69"
      },
      "source": [
        "# # load dataset\n",
        "# series = pd.read_csv('dataset.csv', header=None, index_col=0, parse_dates=True, squeeze=True)\n",
        "# # evaluate parameters\n",
        "# p_values = range(0,25)\n",
        "# d_values = range(0, 2)\n",
        "# q_values = range(0, 2)\n",
        "# warnings.filterwarnings(\"ignore\")\n",
        "# evaluate_models(series.values, p_values, d_values, q_values)"
      ],
      "execution_count": 32,
      "outputs": []
    },
    {
      "cell_type": "markdown",
      "metadata": {
        "id": "BFrbNkuRZjlK"
      },
      "source": [
        "***(p,d,q) = (4, 0, 1) gives the least Root Mean square error value, therefore, we will use this combination in our study moving forward!***"
      ]
    },
    {
      "cell_type": "code",
      "metadata": {
        "id": "xUcWf2SiZjRr"
      },
      "source": [
        "import warnings \n",
        "warnings.filterwarnings(\"ignore\")"
      ],
      "execution_count": 33,
      "outputs": []
    },
    {
      "cell_type": "markdown",
      "metadata": {
        "id": "yLxmTrGEuswI"
      },
      "source": [
        "**REVIEWING RESIDUAL ERRORS**"
      ]
    },
    {
      "cell_type": "code",
      "metadata": {
        "id": "rbldSiX4CP3z",
        "colab": {
          "base_uri": "https://localhost:8080/",
          "height": 499
        },
        "outputId": "54b64fd6-33d5-42ed-ba32-7aa4ceb6278e"
      },
      "source": [
        "# prepare data\n",
        "X = series.values\n",
        "X = X.astype('float32')\n",
        "train_size = int(len(X) * 0.50)\n",
        "train, test = X[0:train_size], X[train_size:]\n",
        "# walk-forward validation\n",
        "history = [x for x in train]\n",
        "predictions = list()\n",
        "for i in range(len(test)):\n",
        "  # predict\n",
        "  model = ARIMA(history, order=(4,0,1))\n",
        "  model_fit = model.fit(disp=0)\n",
        "  yhat = model_fit.forecast()[0]\n",
        "  predictions.append(yhat)\n",
        "  # observation\n",
        "  obs = test[i]\n",
        "  history.append(obs)\n",
        "# errors\n",
        "residuals = [test[i]-predictions[i] for i in range(len(test))]\n",
        "residuals = pd.DataFrame(residuals)\n",
        "plt.figure(figsize=(20,8))\n",
        "plt.subplot(121)\n",
        "residuals.hist(ax=plt.gca())\n",
        "plt.subplot(122)\n",
        "residuals.plot(kind='kde', ax=plt.gca())\n",
        "plt.show()"
      ],
      "execution_count": 34,
      "outputs": [
        {
          "output_type": "display_data",
          "data": {
            "image/png": "[encoded data removed]",
            "text/plain": [
              "<Figure size 1440x576 with 2 Axes>"
            ]
          },
          "metadata": {
            "tags": [],
            "needs_background": "light"
          }
        }
      ]
    },
    {
      "cell_type": "markdown",
      "metadata": {
        "id": "EnWOyxcouzOi"
      },
      "source": [
        "**THE GRAPH SUGGESTS A GAUSSIAN-LIKE DISTRIBUTION AND THERE SEEMS TO BE MINIMAL BIAS AND HENCE, WE NEGLECT IT.**"
      ]
    },
    {
      "cell_type": "markdown",
      "metadata": {
        "id": "LFlfoyDfwVwn"
      },
      "source": [
        "**ACF AND PACT PLOTS OF RESIDUAL ERRORS**"
      ]
    },
    {
      "cell_type": "code",
      "metadata": {
        "id": "4GzA4HJgP3kz",
        "colab": {
          "base_uri": "https://localhost:8080/",
          "height": 499
        },
        "outputId": "38dba123-63ce-4614-e752-3ae3ffabc95c"
      },
      "source": [
        "plt.figure(figsize=(20,8))\n",
        "plt.subplot(211)\n",
        "plot_acf(residuals, lags=25, ax=plt.gca())\n",
        "plt.subplot(212)\n",
        "plot_pacf(residuals, lags=25, ax=plt.gca())\n",
        "plt.show()"
      ],
      "execution_count": 35,
      "outputs": [
        {
          "output_type": "display_data",
          "data": {
            "image/png": "[encoded data removed]",
            "text/plain": [
              "<Figure size 1440x576 with 2 Axes>"
            ]
          },
          "metadata": {
            "tags": [],
            "needs_background": "light"
          }
        }
      ]
    },
    {
      "cell_type": "markdown",
      "metadata": {
        "id": "0SQl61pSwgoH"
      },
      "source": [
        "**THE PLOT SUGGESTS THAT LITTLE AUTOCORRELATION IS PRESENT WHICH IMPLIES THAT THE ARIMA MODEL HAS CAPTURED THE EXISTING TIME SERIES TO A GREAT EXTENT.**"
      ]
    },
    {
      "cell_type": "markdown",
      "metadata": {
        "id": "Ag0JmDTIxBgB"
      },
      "source": [
        "**TRANSFORMING THE DATASET USING BOX-COX TRANFORM**"
      ]
    },
    {
      "cell_type": "code",
      "metadata": {
        "colab": {
          "base_uri": "https://localhost:8080/"
        },
        "id": "6hzKUdzlby0R",
        "outputId": "83b4976b-2f4e-4afa-9bfd-4e6f2f6d21fe"
      },
      "source": [
        "from scipy.stats import boxcox\n",
        "series = pd.read_csv('dataset.csv', header=None, index_col=0, parse_dates=True, squeeze=True)\n",
        "X = series.values\n",
        "transformed, lam = boxcox(X)\n",
        "print('Lambda: %f' % lam)"
      ],
      "execution_count": 36,
      "outputs": [
        {
          "output_type": "stream",
          "text": [
            "Lambda: -0.211850\n"
          ],
          "name": "stdout"
        }
      ]
    },
    {
      "cell_type": "markdown",
      "metadata": {
        "id": "zEtL6DvMxORH"
      },
      "source": [
        "**PLOTTING THE TRANSFORMED TIME SERIES**"
      ]
    },
    {
      "cell_type": "code",
      "metadata": {
        "id": "dmwn76ZJcK7E",
        "colab": {
          "base_uri": "https://localhost:8080/",
          "height": 497
        },
        "outputId": "01efd96d-88a3-4eb0-907d-a321bcb7915a"
      },
      "source": [
        "from statsmodels.graphics.gofplots import qqplot\n",
        "plt.figure(figsize=(20,8))\n",
        "# line plot\n",
        "plt.subplot(311)\n",
        "plt.plot(transformed)\n",
        "# histogram\n",
        "plt.subplot(312)\n",
        "plt.hist(transformed)\n",
        "# q-q plot\n",
        "plt.subplot(313)\n",
        "qqplot(transformed, line='r', ax=plt.gca())\n",
        "plt.show()"
      ],
      "execution_count": 37,
      "outputs": [
        {
          "output_type": "display_data",
          "data": {
            "image/png": "[encoded data removed]",
            "text/plain": [
              "<Figure size 1440x576 with 3 Axes>"
            ]
          },
          "metadata": {
            "tags": [],
            "needs_background": "light"
          }
        }
      ]
    },
    {
      "cell_type": "markdown",
      "metadata": {
        "id": "o2AaqdQdxUvH"
      },
      "source": [
        "1. **LARGE FLUCTUATION HAVE BEEN REMOVED FROM THE DATASET WHICH CAN BE SEEN IN THE LINE PLOT.**\n",
        "\n",
        "2. **THE HISTOGRAM SHOWS A SOME WHAT UNIFORM GAUSSIAN DISTRIBUTION**\n",
        "\n",
        "3. **THE QQ-PLOT IS REASONABLE AND SHOWS UNIFORM GAUSSIAN DISTRIBUTION**"
      ]
    },
    {
      "cell_type": "code",
      "metadata": {
        "id": "aOR3YjKKfQoK"
      },
      "source": [
        "from math import exp\n",
        "from math import log"
      ],
      "execution_count": 38,
      "outputs": []
    },
    {
      "cell_type": "markdown",
      "metadata": {
        "id": "N_dzTFOXxLFe"
      },
      "source": [
        "**RUNNING THE ARIMA MODEL ON THE BOXCOX TRANSFORMED DATASET**"
      ]
    },
    {
      "cell_type": "code",
      "metadata": {
        "colab": {
          "base_uri": "https://localhost:8080/"
        },
        "id": "xFpPnz3qcj7e",
        "outputId": "adc0a1b3-d19e-428a-b3bd-b43e45bf70e2"
      },
      "source": [
        "# invert box-cox transform\n",
        "def boxcox_inverse(value, lam):\n",
        "  if lam == 0:\n",
        "    return exp(value)\n",
        "  return exp(log(lam * value + 1) / lam)\n",
        "# load data\n",
        "series = pd.read_csv('dataset.csv', header=None, index_col=0, parse_dates=True, squeeze=True)\n",
        "# prepare data\n",
        "X = series.values\n",
        "X = X.astype('float32')\n",
        "train_size = int(len(X) * 0.50)\n",
        "train, test = X[0:train_size], X[train_size:]\n",
        "# walk-forward validation\n",
        "history = [x for x in train]\n",
        "predictions = list()\n",
        "for i in range(len(test)):\n",
        "  # transform\n",
        "  transformed, lam = boxcox(history)\n",
        "  if lam < -5:\n",
        "    transformed, lam = history, 1\n",
        "  # predict\n",
        "  model = ARIMA(transformed, order=(4,0,1))\n",
        "  model_fit = model.fit(disp=0)\n",
        "  yhat = model_fit.forecast()[0]\n",
        "  # invert transformed prediction\n",
        "  yhat = boxcox_inverse(yhat, lam)\n",
        "  predictions.append(yhat)\n",
        "  # observation\n",
        "  obs = test[i]\n",
        "  history.append(obs)\n",
        "  print('>Predicted=%.3f, Expected=%.3f' % (yhat, obs))\n",
        "# report performance\n",
        "rmse = sqrt(mean_squared_error(test, predictions))\n",
        "print('RMSE: %.3f' % rmse)"
      ],
      "execution_count": 39,
      "outputs": [
        {
          "output_type": "stream",
          "text": [
            ">Predicted=960.730, Expected=1038.000\n",
            ">Predicted=1094.655, Expected=1143.000\n",
            ">Predicted=1178.443, Expected=1123.000\n",
            ">Predicted=1121.137, Expected=1269.000\n",
            ">Predicted=1352.507, Expected=1921.000\n",
            ">Predicted=2139.143, Expected=1910.000\n",
            ">Predicted=1806.916, Expected=1964.000\n",
            ">Predicted=2018.875, Expected=2033.000\n",
            ">Predicted=2096.922, Expected=1518.000\n",
            ">Predicted=1374.034, Expected=1410.000\n",
            ">Predicted=1506.049, Expected=1431.000\n",
            ">Predicted=1490.696, Expected=1850.000\n",
            ">Predicted=2001.244, Expected=2756.000\n",
            ">Predicted=2996.562, Expected=4530.000\n",
            ">Predicted=4827.733, Expected=5217.000\n",
            ">Predicted=4933.085, Expected=4676.000\n",
            ">Predicted=3782.897, Expected=4705.000\n",
            ">Predicted=4331.849, Expected=2609.000\n",
            ">Predicted=1241.623, Expected=1477.000\n",
            ">Predicted=850.507, Expected=1300.000\n",
            ">Predicted=926.934, Expected=1288.000\n",
            ">Predicted=1393.716, Expected=1320.000\n",
            ">Predicted=1193.545, Expected=1640.000\n",
            ">Predicted=1842.739, Expected=2288.000\n",
            ">Predicted=2291.253, Expected=2981.000\n",
            ">Predicted=3149.728, Expected=2691.000\n",
            ">Predicted=2175.085, Expected=2404.000\n",
            ">Predicted=2227.459, Expected=2338.000\n",
            ">Predicted=1958.852, Expected=2420.000\n",
            ">Predicted=2410.170, Expected=2404.000\n",
            ">Predicted=2069.052, Expected=2142.000\n",
            ">Predicted=2016.229, Expected=2242.000\n",
            ">Predicted=2013.876, Expected=2113.000\n",
            ">Predicted=2023.660, Expected=1882.000\n",
            ">Predicted=1587.701, Expected=2017.000\n",
            ">Predicted=2070.793, Expected=2519.000\n",
            ">Predicted=2465.386, Expected=2671.000\n",
            ">Predicted=2615.565, Expected=4920.000\n",
            ">Predicted=5507.919, Expected=5318.000\n",
            ">Predicted=4873.822, Expected=3800.000\n",
            ">Predicted=2854.619, Expected=3432.000\n",
            ">Predicted=2985.616, Expected=2367.000\n",
            ">Predicted=1674.118, Expected=2086.000\n",
            ">Predicted=1978.012, Expected=1763.000\n",
            ">Predicted=1402.608, Expected=1333.000\n",
            ">Predicted=1313.697, Expected=1343.000\n",
            ">Predicted=1219.075, Expected=1387.000\n",
            ">Predicted=1525.366, Expected=1578.000\n",
            ">Predicted=1533.501, Expected=1583.000\n",
            ">Predicted=1654.865, Expected=1525.000\n",
            ">Predicted=1402.559, Expected=1328.000\n",
            ">Predicted=1336.009, Expected=1245.000\n",
            ">Predicted=1164.160, Expected=1371.000\n",
            ">Predicted=1504.573, Expected=1468.000\n",
            ">Predicted=1426.507, Expected=1278.000\n",
            ">Predicted=1288.178, Expected=1050.000\n",
            ">Predicted=949.935, Expected=1096.000\n",
            ">Predicted=1234.277, Expected=1195.000\n",
            ">Predicted=1195.832, Expected=1018.000\n",
            ">Predicted=1068.252, Expected=1190.000\n",
            ">Predicted=1263.812, Expected=1152.000\n",
            ">Predicted=1188.478, Expected=2336.000\n",
            ">Predicted=2763.888, Expected=1755.000\n",
            ">Predicted=1326.916, Expected=2886.000\n",
            ">Predicted=3276.403, Expected=4110.000\n",
            ">Predicted=3832.213, Expected=4214.000\n",
            ">Predicted=4255.922, Expected=4095.000\n",
            ">Predicted=3357.130, Expected=2371.000\n",
            ">Predicted=1771.850, Expected=1481.000\n",
            ">Predicted=816.283, Expected=1173.000\n",
            ">Predicted=1156.956, Expected=1179.000\n",
            ">Predicted=1076.130, Expected=1410.000\n",
            ">Predicted=1648.806, Expected=1929.000\n",
            ">Predicted=1954.696, Expected=1781.000\n",
            ">Predicted=1791.839, Expected=1533.000\n",
            ">Predicted=1352.244, Expected=1791.000\n",
            ">Predicted=1915.279, Expected=1817.000\n",
            ">Predicted=1671.715, Expected=1533.000\n",
            ">Predicted=1518.592, Expected=1263.000\n",
            ">Predicted=1076.026, Expected=959.000\n",
            ">Predicted=1004.416, Expected=979.000\n",
            ">Predicted=976.947, Expected=1211.000\n",
            ">Predicted=1430.346, Expected=1263.000\n",
            ">Predicted=1247.838, Expected=1762.000\n",
            ">Predicted=2036.439, Expected=1941.000\n",
            ">Predicted=1820.417, Expected=2252.000\n",
            ">Predicted=2416.588, Expected=3675.000\n",
            ">Predicted=3792.269, Expected=3567.000\n",
            ">Predicted=3282.351, Expected=6415.000\n",
            ">Predicted=6889.785, Expected=9876.000\n",
            ">Predicted=10648.160, Expected=4936.000\n",
            ">Predicted=2696.783, Expected=2950.000\n",
            ">Predicted=2845.921, Expected=2100.000\n",
            ">Predicted=339.672, Expected=1100.000\n",
            ">Predicted=1655.770, Expected=794.000\n",
            ">Predicted=151.666, Expected=961.000\n",
            ">Predicted=1651.124, Expected=916.000\n",
            ">Predicted=586.762, Expected=1155.000\n",
            ">Predicted=1736.607, Expected=1950.000\n",
            ">Predicted=1768.058, Expected=3420.000\n",
            ">Predicted=3618.148, Expected=3200.000\n",
            ">Predicted=2746.347, Expected=3060.000\n",
            "RMSE: 914.400\n"
          ],
          "name": "stdout"
        }
      ]
    },
    {
      "cell_type": "markdown",
      "metadata": {
        "id": "uNFcXAYzyMRY"
      },
      "source": [
        "**FINALIZING AND SAVING THE MODEL**"
      ]
    },
    {
      "cell_type": "code",
      "metadata": {
        "id": "Eu3DYm7tfG5f"
      },
      "source": [
        "# monkey patch around bug in ARIMA class\n",
        "def __getnewargs__(self):\n",
        "  return ((self.endog),(self.k_lags, self.k_diff, self.k_ma))\n",
        "ARIMA.__getnewargs__ = __getnewargs__\n",
        "\n",
        "# load data\n",
        "series = pd.read_csv('dataset.csv', header=None, index_col=0, parse_dates=True, squeeze=True)\n",
        "# prepare data\n",
        "X = series.values\n",
        "X = X.astype('float32')\n",
        "#transform data\n",
        "for i in range(len(X)):\n",
        "   #transform\n",
        "  transformed, lam = boxcox(X)\n",
        "  if lam < -5:\n",
        "    transformed, lam = history, 1\n",
        "# fit model\n",
        "model = ARIMA(transformed, order=(4,0,1))\n",
        "model_fit = model.fit(disp=0)\n",
        "# save model\n",
        "model_fit.save('model.pkl')\n",
        "np.save('model_lambda.npy', [lam])"
      ],
      "execution_count": 44,
      "outputs": []
    },
    {
      "cell_type": "code",
      "metadata": {
        "colab": {
          "base_uri": "https://localhost:8080/"
        },
        "id": "bX1HU58nkbVj",
        "outputId": "3eab8450-a5e0-4458-9098-601f3a1b49f2"
      },
      "source": [
        "lam"
      ],
      "execution_count": 45,
      "outputs": [
        {
          "output_type": "execute_result",
          "data": {
            "text/plain": [
              "1"
            ]
          },
          "metadata": {
            "tags": []
          },
          "execution_count": 45
        }
      ]
    },
    {
      "cell_type": "markdown",
      "metadata": {
        "id": "H6olKcyKyeSJ"
      },
      "source": [
        "**LOADING THE MODEL AND MAKING A SINGLE FORECAST**"
      ]
    },
    {
      "cell_type": "code",
      "metadata": {
        "colab": {
          "base_uri": "https://localhost:8080/"
        },
        "id": "bQl2SmpVg3Gq",
        "outputId": "242b3bf9-f32b-4d80-901c-17ebddfbc326"
      },
      "source": [
        "from statsmodels.tsa.arima_model import ARIMAResults\n",
        "model_fit = ARIMAResults.load('model.pkl')\n",
        "lam = np.load('model_lambda.npy')\n",
        "yhat = model_fit.forecast()[0]\n",
        "yhat = boxcox_inverse(yhat, lam)\n",
        "print('Predicted: %.3f' % yhat)"
      ],
      "execution_count": 46,
      "outputs": [
        {
          "output_type": "stream",
          "text": [
            "Predicted: 2956.908\n"
          ],
          "name": "stdout"
        }
      ]
    },
    {
      "cell_type": "markdown",
      "metadata": {
        "id": "-JAqjXeOj4IT"
      },
      "source": [
        "***If we peek inside validation.csv, we can see that the value on the first row for the next time period is 2976. The model got it somewhat correct.***"
      ]
    },
    {
      "cell_type": "markdown",
      "metadata": {
        "id": "TEPPN7MYyr5P"
      },
      "source": [
        "**VALIDATING THE MODEL BY FORECASTING THE DATA FOR THE NEXT 12 MONTHS AND COMPARING IT WITH validation.csv**"
      ]
    },
    {
      "cell_type": "code",
      "metadata": {
        "id": "8ikyfUpMizV2",
        "colab": {
          "base_uri": "https://localhost:8080/"
        },
        "outputId": "220991b3-02c5-4819-8044-a6b7db7222ea"
      },
      "source": [
        "# load and prepare datasets\n",
        "dataset = pd.read_csv('dataset.csv', header=None, index_col=0, parse_dates=True, squeeze=True)\n",
        "X = dataset.values.astype('float32')\n",
        "history = [x for x in X]\n",
        "validation = pd.read_csv('validation.csv', header=None, index_col=0, parse_dates=True,\n",
        "squeeze=True)\n",
        "y = validation.values.astype('float32')\n",
        "# load model\n",
        "model_fit = ARIMAResults.load('model.pkl')\n",
        "lam = np.load('model_lambda.npy')\n",
        "# make first prediction\n",
        "predictions = list()\n",
        "yhat = model_fit.forecast()[0]\n",
        "yhat = boxcox_inverse(yhat, lam)\n",
        "predictions.append(yhat)\n",
        "history.append(y[0])\n",
        "print('>Predicted=%.3f, Expected=%.3f' % (yhat, y[0]))\n",
        "\n",
        "# rolling forecasts\n",
        "for i in range(1, len(y)):\n",
        "  # transform\n",
        "  transformed, lam = boxcox(history)\n",
        "  if lam < -5:\n",
        "    transformed, lam = history, 1\n",
        "  # predict\n",
        "  model = ARIMA(transformed, order=(0,1,2))\n",
        "  model_fit = model.fit(disp=0)\n",
        "  yhat = model_fit.forecast()[0]\n",
        "  # invert transformed prediction\n",
        "  yhat = boxcox_inverse(yhat, lam)\n",
        "  predictions.append(yhat)\n",
        "  # observation\n",
        "  obs = y[i]\n",
        "  history.append(obs)\n",
        "  print('>Predicted=%.3f, Expected=%.3f' % (yhat, obs))\n",
        "# report performance\n",
        "rmse = sqrt(mean_squared_error(y, predictions))\n",
        "print('RMSE: %.3f' % rmse)"
      ],
      "execution_count": 49,
      "outputs": [
        {
          "output_type": "stream",
          "text": [
            ">Predicted=2956.908, Expected=2976.000\n",
            ">Predicted=2869.047, Expected=4211.000\n",
            ">Predicted=4624.793, Expected=3300.000\n",
            ">Predicted=2751.411, Expected=1100.000\n",
            ">Predicted=978.790, Expected=1150.000\n",
            "RMSE: 1123.632\n"
          ],
          "name": "stdout"
        }
      ]
    },
    {
      "cell_type": "markdown",
      "metadata": {
        "id": "9-KMMlLCy3qe"
      },
      "source": [
        "**PLOTTING THE EXPECTED AND PREDICTED VALUES**"
      ]
    },
    {
      "cell_type": "code",
      "metadata": {
        "id": "JSlXTkNjjew7",
        "colab": {
          "base_uri": "https://localhost:8080/",
          "height": 483
        },
        "outputId": "60230568-d07f-4ae1-bce3-5cb0ea6a2f42"
      },
      "source": [
        "plt.figure(figsize=(20,8))\n",
        "plt.plot(y)\n",
        "plt.plot(predictions, color='red')\n",
        "labels = ['Expected','Predicted']\n",
        "plt.legend(labels)\n",
        "plt.show()"
      ],
      "execution_count": 56,
      "outputs": [
        {
          "output_type": "display_data",
          "data": {
            "image/png": "[encoded data removed]",
            "text/plain": [
              "<Figure size 1440x576 with 1 Axes>"
            ]
          },
          "metadata": {
            "tags": [],
            "needs_background": "light"
          }
        }
      ]
    }
  ]
}